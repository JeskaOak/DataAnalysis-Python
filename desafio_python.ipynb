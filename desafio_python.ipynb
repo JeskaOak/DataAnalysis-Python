{
  "nbformat": 4,
  "nbformat_minor": 0,
  "metadata": {
    "colab": {
      "provenance": [],
      "collapsed_sections": [
        "Se_OOylf_TDg",
        "KdFN63gS_f6H",
        "1mw9fUdc_vSo",
        "grsFAu82APFT",
        "CniWe8mHBEib",
        "dODxmDwOUoD7",
        "4hTbhcnPPqia",
        "SAJ9rDlLWmOv",
        "oP7RdibBeo2x",
        "20JZHYFtdISH"
      ],
      "mount_file_id": "1lGIv9DyZqkR4c6jFlICN--KahvzErwzz",
      "authorship_tag": "ABX9TyO01WYVhkbw0vaGVvSG4WFm",
      "include_colab_link": true
    },
    "kernelspec": {
      "name": "python3",
      "display_name": "Python 3"
    },
    "language_info": {
      "name": "python"
    }
  },
  "cells": [
    {
      "cell_type": "markdown",
      "metadata": {
        "id": "view-in-github",
        "colab_type": "text"
      },
      "source": [
        "<a href=\"https://colab.research.google.com/github/JeskaOak/dio-desafio-python/blob/main/desafio_python.ipynb\" target=\"_parent\"><img src=\"https://colab.research.google.com/assets/colab-badge.svg\" alt=\"Open In Colab\"/></a>"
      ]
    },
    {
      "cell_type": "markdown",
      "source": [
        "## Importando Bibliotecas"
      ],
      "metadata": {
        "id": "Se_OOylf_TDg"
      }
    },
    {
      "cell_type": "code",
      "execution_count": 132,
      "metadata": {
        "id": "bghfmuLvms7J"
      },
      "outputs": [],
      "source": [
        "# Importandoas bibliotecas\n",
        "import pandas as pd\n",
        "import matplotlib.pyplot as plt\n",
        "plt.style.use(\"seaborn\")\n",
        "import numpy as np"
      ]
    },
    {
      "cell_type": "markdown",
      "source": [
        "## Leitura de DataFrame"
      ],
      "metadata": {
        "id": "KdFN63gS_f6H"
      }
    },
    {
      "cell_type": "code",
      "source": [
        "# Criando nosso DataFrame\n",
        "df = pd.read_excel('/content/drive/MyDrive/Colab Notebooks/Dio/AdventureWorks.xlsx')"
      ],
      "metadata": {
        "id": "nSbhQgsDnByI"
      },
      "execution_count": 133,
      "outputs": []
    },
    {
      "cell_type": "markdown",
      "source": [
        "## Conhecendo o DataSet\n",
        "\n",
        "\n",
        "\n",
        "1.   Visualizando as 3 primeiras linhas\n",
        "2.   Puxando o total de linhas e colunas\n",
        "3.   Conhecendo o tipo de dado em cada coluna\n",
        "\n"
      ],
      "metadata": {
        "id": "1mw9fUdc_vSo"
      }
    },
    {
      "cell_type": "code",
      "source": [
        "# Visualizando as 3 primeiras linhas\n",
        "df.head(3)"
      ],
      "metadata": {
        "id": "aqd855mInK9s",
        "colab": {
          "base_uri": "https://localhost:8080/",
          "height": 361
        },
        "outputId": "171cade4-fc2e-48c7-935e-df044c667ae8"
      },
      "execution_count": 134,
      "outputs": [
        {
          "output_type": "execute_result",
          "data": {
            "text/plain": [
              "  Data Venda Data Envio  ID Loja  ID Produto  ID Cliente       No. Venda  \\\n",
              "0 2008-05-09 2008-05-29      199         384       18839  200805093CS607   \n",
              "1 2008-05-12 2008-05-17      306         384       19051  200805123CS567   \n",
              "2 2008-05-14 2008-05-20      306         384       19052  200805143CS576   \n",
              "\n",
              "   Custo Unitário  Preço Unitário  Quantidade  Valor Desconto  Valor Venda  \\\n",
              "0          348.58           758.0           6             0.0       4548.0   \n",
              "1          348.58           758.0           6             0.0       4548.0   \n",
              "2          348.58           758.0           6             0.0       4548.0   \n",
              "\n",
              "                                 Produto       Fabricante            Marca  \\\n",
              "0  Adventure Works Laptop15.4W M1548 Red  Adventure Works  Adventure Works   \n",
              "1  Adventure Works Laptop15.4W M1548 Red  Adventure Works  Adventure Works   \n",
              "2  Adventure Works Laptop15.4W M1548 Red  Adventure Works  Adventure Works   \n",
              "\n",
              "    Classe  Cor  \n",
              "0  Regular  Red  \n",
              "1  Regular  Red  \n",
              "2  Regular  Red  "
            ],
            "text/html": [
              "\n",
              "  <div id=\"df-b63622e2-5433-4fb4-af4b-55f2fd5a7a8f\">\n",
              "    <div class=\"colab-df-container\">\n",
              "      <div>\n",
              "<style scoped>\n",
              "    .dataframe tbody tr th:only-of-type {\n",
              "        vertical-align: middle;\n",
              "    }\n",
              "\n",
              "    .dataframe tbody tr th {\n",
              "        vertical-align: top;\n",
              "    }\n",
              "\n",
              "    .dataframe thead th {\n",
              "        text-align: right;\n",
              "    }\n",
              "</style>\n",
              "<table border=\"1\" class=\"dataframe\">\n",
              "  <thead>\n",
              "    <tr style=\"text-align: right;\">\n",
              "      <th></th>\n",
              "      <th>Data Venda</th>\n",
              "      <th>Data Envio</th>\n",
              "      <th>ID Loja</th>\n",
              "      <th>ID Produto</th>\n",
              "      <th>ID Cliente</th>\n",
              "      <th>No. Venda</th>\n",
              "      <th>Custo Unitário</th>\n",
              "      <th>Preço Unitário</th>\n",
              "      <th>Quantidade</th>\n",
              "      <th>Valor Desconto</th>\n",
              "      <th>Valor Venda</th>\n",
              "      <th>Produto</th>\n",
              "      <th>Fabricante</th>\n",
              "      <th>Marca</th>\n",
              "      <th>Classe</th>\n",
              "      <th>Cor</th>\n",
              "    </tr>\n",
              "  </thead>\n",
              "  <tbody>\n",
              "    <tr>\n",
              "      <th>0</th>\n",
              "      <td>2008-05-09</td>\n",
              "      <td>2008-05-29</td>\n",
              "      <td>199</td>\n",
              "      <td>384</td>\n",
              "      <td>18839</td>\n",
              "      <td>200805093CS607</td>\n",
              "      <td>348.58</td>\n",
              "      <td>758.0</td>\n",
              "      <td>6</td>\n",
              "      <td>0.0</td>\n",
              "      <td>4548.0</td>\n",
              "      <td>Adventure Works Laptop15.4W M1548 Red</td>\n",
              "      <td>Adventure Works</td>\n",
              "      <td>Adventure Works</td>\n",
              "      <td>Regular</td>\n",
              "      <td>Red</td>\n",
              "    </tr>\n",
              "    <tr>\n",
              "      <th>1</th>\n",
              "      <td>2008-05-12</td>\n",
              "      <td>2008-05-17</td>\n",
              "      <td>306</td>\n",
              "      <td>384</td>\n",
              "      <td>19051</td>\n",
              "      <td>200805123CS567</td>\n",
              "      <td>348.58</td>\n",
              "      <td>758.0</td>\n",
              "      <td>6</td>\n",
              "      <td>0.0</td>\n",
              "      <td>4548.0</td>\n",
              "      <td>Adventure Works Laptop15.4W M1548 Red</td>\n",
              "      <td>Adventure Works</td>\n",
              "      <td>Adventure Works</td>\n",
              "      <td>Regular</td>\n",
              "      <td>Red</td>\n",
              "    </tr>\n",
              "    <tr>\n",
              "      <th>2</th>\n",
              "      <td>2008-05-14</td>\n",
              "      <td>2008-05-20</td>\n",
              "      <td>306</td>\n",
              "      <td>384</td>\n",
              "      <td>19052</td>\n",
              "      <td>200805143CS576</td>\n",
              "      <td>348.58</td>\n",
              "      <td>758.0</td>\n",
              "      <td>6</td>\n",
              "      <td>0.0</td>\n",
              "      <td>4548.0</td>\n",
              "      <td>Adventure Works Laptop15.4W M1548 Red</td>\n",
              "      <td>Adventure Works</td>\n",
              "      <td>Adventure Works</td>\n",
              "      <td>Regular</td>\n",
              "      <td>Red</td>\n",
              "    </tr>\n",
              "  </tbody>\n",
              "</table>\n",
              "</div>\n",
              "      <button class=\"colab-df-convert\" onclick=\"convertToInteractive('df-b63622e2-5433-4fb4-af4b-55f2fd5a7a8f')\"\n",
              "              title=\"Convert this dataframe to an interactive table.\"\n",
              "              style=\"display:none;\">\n",
              "        \n",
              "  <svg xmlns=\"http://www.w3.org/2000/svg\" height=\"24px\"viewBox=\"0 0 24 24\"\n",
              "       width=\"24px\">\n",
              "    <path d=\"M0 0h24v24H0V0z\" fill=\"none\"/>\n",
              "    <path d=\"M18.56 5.44l.94 2.06.94-2.06 2.06-.94-2.06-.94-.94-2.06-.94 2.06-2.06.94zm-11 1L8.5 8.5l.94-2.06 2.06-.94-2.06-.94L8.5 2.5l-.94 2.06-2.06.94zm10 10l.94 2.06.94-2.06 2.06-.94-2.06-.94-.94-2.06-.94 2.06-2.06.94z\"/><path d=\"M17.41 7.96l-1.37-1.37c-.4-.4-.92-.59-1.43-.59-.52 0-1.04.2-1.43.59L10.3 9.45l-7.72 7.72c-.78.78-.78 2.05 0 2.83L4 21.41c.39.39.9.59 1.41.59.51 0 1.02-.2 1.41-.59l7.78-7.78 2.81-2.81c.8-.78.8-2.07 0-2.86zM5.41 20L4 18.59l7.72-7.72 1.47 1.35L5.41 20z\"/>\n",
              "  </svg>\n",
              "      </button>\n",
              "      \n",
              "  <style>\n",
              "    .colab-df-container {\n",
              "      display:flex;\n",
              "      flex-wrap:wrap;\n",
              "      gap: 12px;\n",
              "    }\n",
              "\n",
              "    .colab-df-convert {\n",
              "      background-color: #E8F0FE;\n",
              "      border: none;\n",
              "      border-radius: 50%;\n",
              "      cursor: pointer;\n",
              "      display: none;\n",
              "      fill: #1967D2;\n",
              "      height: 32px;\n",
              "      padding: 0 0 0 0;\n",
              "      width: 32px;\n",
              "    }\n",
              "\n",
              "    .colab-df-convert:hover {\n",
              "      background-color: #E2EBFA;\n",
              "      box-shadow: 0px 1px 2px rgba(60, 64, 67, 0.3), 0px 1px 3px 1px rgba(60, 64, 67, 0.15);\n",
              "      fill: #174EA6;\n",
              "    }\n",
              "\n",
              "    [theme=dark] .colab-df-convert {\n",
              "      background-color: #3B4455;\n",
              "      fill: #D2E3FC;\n",
              "    }\n",
              "\n",
              "    [theme=dark] .colab-df-convert:hover {\n",
              "      background-color: #434B5C;\n",
              "      box-shadow: 0px 1px 3px 1px rgba(0, 0, 0, 0.15);\n",
              "      filter: drop-shadow(0px 1px 2px rgba(0, 0, 0, 0.3));\n",
              "      fill: #FFFFFF;\n",
              "    }\n",
              "  </style>\n",
              "\n",
              "      <script>\n",
              "        const buttonEl =\n",
              "          document.querySelector('#df-b63622e2-5433-4fb4-af4b-55f2fd5a7a8f button.colab-df-convert');\n",
              "        buttonEl.style.display =\n",
              "          google.colab.kernel.accessAllowed ? 'block' : 'none';\n",
              "\n",
              "        async function convertToInteractive(key) {\n",
              "          const element = document.querySelector('#df-b63622e2-5433-4fb4-af4b-55f2fd5a7a8f');\n",
              "          const dataTable =\n",
              "            await google.colab.kernel.invokeFunction('convertToInteractive',\n",
              "                                                     [key], {});\n",
              "          if (!dataTable) return;\n",
              "\n",
              "          const docLinkHtml = 'Like what you see? Visit the ' +\n",
              "            '<a target=\"_blank\" href=https://colab.research.google.com/notebooks/data_table.ipynb>data table notebook</a>'\n",
              "            + ' to learn more about interactive tables.';\n",
              "          element.innerHTML = '';\n",
              "          dataTable['output_type'] = 'display_data';\n",
              "          await google.colab.output.renderOutput(dataTable, element);\n",
              "          const docLink = document.createElement('div');\n",
              "          docLink.innerHTML = docLinkHtml;\n",
              "          element.appendChild(docLink);\n",
              "        }\n",
              "      </script>\n",
              "    </div>\n",
              "  </div>\n",
              "  "
            ]
          },
          "metadata": {},
          "execution_count": 134
        }
      ]
    },
    {
      "cell_type": "code",
      "source": [
        "# Visualizando total de linhas e colunas\n",
        "df.shape"
      ],
      "metadata": {
        "colab": {
          "base_uri": "https://localhost:8080/"
        },
        "id": "uKbaCDOiodA8",
        "outputId": "25f0d589-f7b7-49a0-ce93-f6b342c53bf9"
      },
      "execution_count": 104,
      "outputs": [
        {
          "output_type": "execute_result",
          "data": {
            "text/plain": [
              "(904, 16)"
            ]
          },
          "metadata": {},
          "execution_count": 104
        }
      ]
    },
    {
      "cell_type": "code",
      "source": [
        "# Conhecendo o tipo de dado em cada colunas\n",
        "df.dtypes"
      ],
      "metadata": {
        "colab": {
          "base_uri": "https://localhost:8080/"
        },
        "id": "12dyFyQpo7jC",
        "outputId": "2c9331fe-926d-49eb-85a4-261b03696081"
      },
      "execution_count": 105,
      "outputs": [
        {
          "output_type": "execute_result",
          "data": {
            "text/plain": [
              "Data Venda        datetime64[ns]\n",
              "Data Envio        datetime64[ns]\n",
              "ID Loja                    int64\n",
              "ID Produto                 int64\n",
              "ID Cliente                 int64\n",
              "No. Venda                 object\n",
              "Custo Unitário           float64\n",
              "Preço Unitário           float64\n",
              "Quantidade                 int64\n",
              "Valor Desconto           float64\n",
              "Valor Venda              float64\n",
              "Produto                   object\n",
              "Fabricante                object\n",
              "Marca                     object\n",
              "Classe                    object\n",
              "Cor                       object\n",
              "dtype: object"
            ]
          },
          "metadata": {},
          "execution_count": 105
        }
      ]
    },
    {
      "cell_type": "markdown",
      "source": [
        "## Editando o Dataset\n",
        "\n",
        "\n",
        "\n",
        "*   Alterando tipo de dado da coluna\n",
        "*   Verificação de valores nulos\n",
        "*   Criando novas colunas\n",
        "*   Alterando ordem das colunas\n",
        "\n"
      ],
      "metadata": {
        "id": "grsFAu82APFT"
      }
    },
    {
      "cell_type": "code",
      "source": [
        "# Alterando o tipo de dado da coluna ID Loja, ID Produto, ID cliente de int para object pois não faremos cálculos com essas variáveis\n",
        "df[\"ID Loja\"] = df[\"ID Loja\"].astype(\"object\")\n",
        "df[\"ID Produto\"] = df[\"ID Produto\"].astype(\"object\")\n",
        "df[\"ID Cliente\"] = df[\"ID Cliente\"].astype(\"object\")\n",
        "\n"
      ],
      "metadata": {
        "id": "lhfDQ1WapJJB"
      },
      "execution_count": 143,
      "outputs": []
    },
    {
      "cell_type": "code",
      "source": [
        "# Checando se as alterações funcionaram\n",
        "df.dtypes"
      ],
      "metadata": {
        "colab": {
          "base_uri": "https://localhost:8080/"
        },
        "id": "o80TaW71qAdJ",
        "outputId": "dc1a1aa8-92c5-4c53-c9b9-d9fc13b5e9e2"
      },
      "execution_count": 144,
      "outputs": [
        {
          "output_type": "execute_result",
          "data": {
            "text/plain": [
              "ID Loja                    object\n",
              "ID Produto                 object\n",
              "ID Cliente                 object\n",
              "No. Venda                  object\n",
              "Data Venda         datetime64[ns]\n",
              "Data Envio         datetime64[ns]\n",
              "Prazo Entrega     timedelta64[ns]\n",
              "Custo Unitário            float64\n",
              "Preço Unitário            float64\n",
              "Quantidade                  int64\n",
              "Valor Desconto            float64\n",
              "Valor Venda               float64\n",
              "Custo Total               float64\n",
              "Lucro                     float64\n",
              "Produto                    object\n",
              "Fabricante                 object\n",
              "Marca                      object\n",
              "Classe                     object\n",
              "Cor                        object\n",
              "dtype: object"
            ]
          },
          "metadata": {},
          "execution_count": 144
        }
      ]
    },
    {
      "cell_type": "code",
      "source": [
        "# Verificando se há valores faltantes\n",
        "df.isnull().sum()"
      ],
      "metadata": {
        "colab": {
          "base_uri": "https://localhost:8080/"
        },
        "id": "s24zQxM_qL5Q",
        "outputId": "8626666c-e148-490a-d0c5-a4dae47e8c28"
      },
      "execution_count": 145,
      "outputs": [
        {
          "output_type": "execute_result",
          "data": {
            "text/plain": [
              "ID Loja           0\n",
              "ID Produto        0\n",
              "ID Cliente        0\n",
              "No. Venda         0\n",
              "Data Venda        0\n",
              "Data Envio        0\n",
              "Prazo Entrega     0\n",
              "Custo Unitário    0\n",
              "Preço Unitário    0\n",
              "Quantidade        0\n",
              "Valor Desconto    0\n",
              "Valor Venda       0\n",
              "Custo Total       0\n",
              "Lucro             0\n",
              "Produto           0\n",
              "Fabricante        0\n",
              "Marca             0\n",
              "Classe            0\n",
              "Cor               0\n",
              "dtype: int64"
            ]
          },
          "metadata": {},
          "execution_count": 145
        }
      ]
    },
    {
      "cell_type": "code",
      "source": [
        "# Visualizando nomes das colunas\n",
        "df.columns"
      ],
      "metadata": {
        "colab": {
          "base_uri": "https://localhost:8080/"
        },
        "id": "qx0lNGl5qs2Q",
        "outputId": "29865b2f-eef7-49c1-905a-cefa1f9c2965"
      },
      "execution_count": 146,
      "outputs": [
        {
          "output_type": "execute_result",
          "data": {
            "text/plain": [
              "Index(['ID Loja', 'ID Produto', 'ID Cliente', 'No. Venda', 'Data Venda',\n",
              "       'Data Envio', 'Prazo Entrega', 'Custo Unitário', 'Preço Unitário',\n",
              "       'Quantidade', 'Valor Desconto', 'Valor Venda', 'Custo Total', 'Lucro',\n",
              "       'Produto', 'Fabricante', 'Marca', 'Classe', 'Cor'],\n",
              "      dtype='object')"
            ]
          },
          "metadata": {},
          "execution_count": 146
        }
      ]
    },
    {
      "cell_type": "code",
      "source": [
        "# Criando a coluna \"Custo Total\", que é a multiplicação das colunas Custo Unitário e Quantidade\n",
        "df[\"Custo Total\"] = df[\"Custo Unitário\"] * (df[\"Quantidade\"])"
      ],
      "metadata": {
        "id": "s5f5AzVSrROh"
      },
      "execution_count": 147,
      "outputs": []
    },
    {
      "cell_type": "code",
      "source": [
        "# Criando a coluna \"Lucro\", que é a diferença entre as colunas Valor Venda e Custo Total\n",
        "df[\"Lucro\"] = df[\"Valor Venda\"] - (df[\"Custo Total\"])"
      ],
      "metadata": {
        "id": "nVKq3uWUqvkA"
      },
      "execution_count": 148,
      "outputs": []
    },
    {
      "cell_type": "code",
      "source": [
        "# Criando a coluna \"Percentual Custo\", que é o custo unitário dividido pelo preço unitário\n",
        "df[\"Percentual Custo\"] = round(df[\"Custo Unitário\"] / df[\"Preço Unitário\"]*100,2)"
      ],
      "metadata": {
        "id": "yME0ExmQqwvR"
      },
      "execution_count": 171,
      "outputs": []
    },
    {
      "cell_type": "code",
      "source": [
        "# Alterando ordem das colunas\n",
        "\n",
        "df = df[['ID Loja', 'ID Produto', 'ID Cliente','No. Venda','Data Venda', 'Data Envio', 'Prazo Entrega', \n",
        "        'Custo Unitário', 'Preço Unitário', 'Quantidade',\n",
        "       'Valor Desconto', 'Valor Venda', 'Custo Total', 'Lucro','Percentual Custo','Produto', 'Fabricante', 'Marca',\n",
        "       'Classe', 'Cor']]\n",
        "\n"
      ],
      "metadata": {
        "id": "ksNGqQ4Ctt3M"
      },
      "execution_count": 172,
      "outputs": []
    },
    {
      "cell_type": "markdown",
      "source": [
        "## Análise Exploratória\n",
        "\n",
        "\n",
        "\n",
        "*   Lucro anual\n",
        "*   Lucro por fabricantes\n",
        "*   Quantidade de vendas anuais x Valor de Venda anuais\n",
        "*   Produtos: Preços e Custos\n",
        "\n"
      ],
      "metadata": {
        "id": "CniWe8mHBEib"
      }
    },
    {
      "cell_type": "markdown",
      "source": [
        "\n",
        "\n",
        "> ### Lucro Anual\n",
        "\n"
      ],
      "metadata": {
        "id": "dODxmDwOUoD7"
      }
    },
    {
      "cell_type": "code",
      "source": [
        "# Lucro por ano: Groupby feito por ano e soma da coluna Lucro\n",
        "lucro_total_anual = round(df.groupby(df[\"Data Venda\"].dt.year)[\"Lucro\"].sum(),2)\n",
        "lucro_total_anual\n"
      ],
      "metadata": {
        "colab": {
          "base_uri": "https://localhost:8080/"
        },
        "id": "W94_IsbjJ5wc",
        "outputId": "ea50e3c8-e96a-49b2-ed76-bf553d1114bf"
      },
      "execution_count": 151,
      "outputs": [
        {
          "output_type": "execute_result",
          "data": {
            "text/plain": [
              "Data Venda\n",
              "2008    1920077.71\n",
              "2009    1577745.38\n",
              "Name: Lucro, dtype: float64"
            ]
          },
          "metadata": {},
          "execution_count": 151
        }
      ]
    },
    {
      "cell_type": "code",
      "source": [
        "# Cálculo da variação percentual do lucro entre os anos de 2008 e 2009\n",
        "lucro_2008 = 1920077.71\n",
        "lucro_2009 = 1577745.38\n",
        "variacao_percentual = f\"{(lucro_2009 - lucro_2008)/lucro_2008*100:.2f}%\"\n",
        "\n",
        "print(f\"Houve uma queda no lucro de {variacao_percentual} em 2009.\")\n",
        "\n",
        "\n"
      ],
      "metadata": {
        "colab": {
          "base_uri": "https://localhost:8080/"
        },
        "id": "c67GLpcOPOY-",
        "outputId": "a5da2902-1310-4e64-ee0c-a81b2d3e152e"
      },
      "execution_count": 152,
      "outputs": [
        {
          "output_type": "stream",
          "name": "stdout",
          "text": [
            "Houve uma queda no lucro de -17.83% em 2009.\n"
          ]
        }
      ]
    },
    {
      "cell_type": "code",
      "source": [
        "# Criando um dataframe para as vendas de 2008 e 2009\n",
        "df_vendas_2008 = df.loc[(df[\"Data Venda\"].dt.year == 2008)] \n",
        "df_vendas_2009 = df.loc[(df[\"Data Venda\"].dt.year == 2009)]\n",
        "\n",
        "# Agrupando lucros por mês\n",
        "visao_lucros_2008 = round(df_vendas_2008.groupby(df[\"Data Venda\"].dt.month)[\"Lucro\"].sum(),2)\n",
        "visao_lucros_2009 = round(df_vendas_2009.groupby(df[\"Data Venda\"].dt.month)[\"Lucro\"].sum(),2)\n",
        "\n"
      ],
      "metadata": {
        "id": "f1tdHMN_PsOt"
      },
      "execution_count": 153,
      "outputs": []
    },
    {
      "cell_type": "code",
      "source": [
        "# Visualização mensal dos lucros nos anos de 2008 e 2009\n",
        "\n",
        "# Definindo o que será plotado, neste caso, os lucros mensais de cada ano\n",
        "plt.plot(visao_lucros_2008, linestyle='--', marker='o', color='blue', markersize=4);\n",
        "plt.plot(visao_lucros_2009, linestyle='--', marker='o', color='red', markersize=4);\n",
        "\n",
        "# Definindo labels dos eixos\n",
        "plt.xlabel('Meses',fontsize=15)\n",
        "plt.ylabel('Lucro', fontsize=15)\n",
        "\n",
        "# Título do gráfico\n",
        "plt.title('Lucro mensal dos anos 2008 e 2009')\n",
        "\n",
        "# Legenda \n",
        "plt.legend(['2008', '2009'])\n",
        "\n"
      ],
      "metadata": {
        "colab": {
          "base_uri": "https://localhost:8080/",
          "height": 397
        },
        "id": "yqAaFI8aFfLJ",
        "outputId": "b1a8045a-7bab-4a1d-b8d8-55e36cd2f30b"
      },
      "execution_count": 154,
      "outputs": [
        {
          "output_type": "execute_result",
          "data": {
            "text/plain": [
              "<matplotlib.legend.Legend at 0x7f9751fe66d0>"
            ]
          },
          "metadata": {},
          "execution_count": 154
        },
        {
          "output_type": "display_data",
          "data": {
            "text/plain": [
              "<Figure size 576x396 with 1 Axes>"
            ],
            "image/png": "[encoded data removed]"
          },
          "metadata": {}
        }
      ]
    },
    {
      "cell_type": "markdown",
      "source": [
        "####  Considerações sobre o gráfico \"Lucro Mensal dos anos 2008 e 2009\"\n",
        "- Em 2008 os lucros foram maiores que 2009 de abril até junho\n",
        "- Em 2009 os lucros foram maiores que 2008 nos meses de: janeiro, fevereiro, março e julho\n",
        "- O melhor mês de lucro em 2008 foi junho, já em 2009 foi julho\n",
        "- O pior mês para 2008 foi janeiro, enquanto que em 2009 foi agosto"
      ],
      "metadata": {
        "id": "u-94fBpllqM5"
      }
    },
    {
      "cell_type": "markdown",
      "source": [
        "\n",
        "\n",
        "> ### Lucro por Fabricantes\n",
        "\n",
        "\n",
        "\n",
        "\n",
        "\n"
      ],
      "metadata": {
        "id": "4hTbhcnPPqia"
      }
    },
    {
      "cell_type": "code",
      "source": [
        "# Soma do Lucro por fabricante usando groupby\n",
        "fabricante_lucro_soma= round(df.groupby(\"Fabricante\")[\"Lucro\"].sum(),2)\n",
        "\n",
        "# Valores em ordem decrescente\n",
        "fabricante_lucro_soma.sort_values(ascending=False)"
      ],
      "metadata": {
        "colab": {
          "base_uri": "https://localhost:8080/"
        },
        "id": "y1SViTQ15EpX",
        "outputId": "6c2e977b-ca7c-4832-d5ab-0d26ced990a7"
      },
      "execution_count": 155,
      "outputs": [
        {
          "output_type": "execute_result",
          "data": {
            "text/plain": [
              "Fabricante\n",
              "Fabrikam, Inc.     2591111.90\n",
              "Adventure Works     712036.24\n",
              "Contoso, Ltd        194674.95\n",
              "Name: Lucro, dtype: float64"
            ]
          },
          "metadata": {},
          "execution_count": 155
        }
      ]
    },
    {
      "cell_type": "code",
      "source": [
        "# Representatividade do Lucro por Fabricante: Considerando os anos de 2008 e 2009\n",
        "\n",
        "df.groupby(\"Fabricante\")[\"Lucro\"].sum().plot.pie();"
      ],
      "metadata": {
        "colab": {
          "base_uri": "https://localhost:8080/",
          "height": 330
        },
        "id": "0LZ2GhUwHh40",
        "outputId": "823166ca-40eb-45c2-ceec-e3afb12a827d"
      },
      "execution_count": 156,
      "outputs": [
        {
          "output_type": "display_data",
          "data": {
            "text/plain": [
              "<Figure size 576x396 with 1 Axes>"
            ],
            "image/png": "[encoded data removed]"
          },
          "metadata": {}
        }
      ]
    },
    {
      "cell_type": "code",
      "source": [
        "# Lucro dos Fabricantes em 2008\n",
        "fabricante_lucro_2008= round(df_vendas_2008.groupby(\"Fabricante\")[\"Lucro\"].sum(),2)\n",
        "fabricante_lucro_2008.sort_values(ascending=False)\n",
        "\n",
        "\n"
      ],
      "metadata": {
        "id": "gE0EeYAwW_fT",
        "colab": {
          "base_uri": "https://localhost:8080/"
        },
        "outputId": "08f6b5e7-7f8d-4469-8929-44ef37ad61b9"
      },
      "execution_count": 157,
      "outputs": [
        {
          "output_type": "execute_result",
          "data": {
            "text/plain": [
              "Fabricante\n",
              "Fabrikam, Inc.     1557020.55\n",
              "Adventure Works     306641.16\n",
              "Contoso, Ltd         56416.00\n",
              "Name: Lucro, dtype: float64"
            ]
          },
          "metadata": {},
          "execution_count": 157
        }
      ]
    },
    {
      "cell_type": "code",
      "source": [
        "# Lucro dos Fabricantes em 2009\n",
        "fabricante_lucro_2009= round(df_vendas_2009.groupby(\"Fabricante\")[\"Lucro\"].sum(),2)\n",
        "fabricante_lucro_2009.sort_values(ascending=False)"
      ],
      "metadata": {
        "colab": {
          "base_uri": "https://localhost:8080/"
        },
        "id": "cHO17sovUd7k",
        "outputId": "bb712e41-c476-45c7-889f-58d76729837f"
      },
      "execution_count": 158,
      "outputs": [
        {
          "output_type": "execute_result",
          "data": {
            "text/plain": [
              "Fabricante\n",
              "Fabrikam, Inc.     1034091.35\n",
              "Adventure Works     405395.08\n",
              "Contoso, Ltd        138258.95\n",
              "Name: Lucro, dtype: float64"
            ]
          },
          "metadata": {},
          "execution_count": 158
        }
      ]
    },
    {
      "cell_type": "markdown",
      "source": [
        "- A Fabrikam é a fabricante mais lucrativa nos 2 anos e Contoso, a menos lucrativa."
      ],
      "metadata": {
        "id": "N6ygsL2XlhHF"
      }
    },
    {
      "cell_type": "markdown",
      "source": [
        "\n",
        "\n",
        "> ### Quantidade de vendas anuais x Valor de Venda anuais\n",
        "\n"
      ],
      "metadata": {
        "id": "SAJ9rDlLWmOv"
      }
    },
    {
      "cell_type": "code",
      "source": [
        "# Quantidade de vendas por ano\n",
        "df.groupby(df[\"Data Venda\"].dt.year)[\"Quantidade\"].sum().plot.pie(autopct='%.0f%%');"
      ],
      "metadata": {
        "colab": {
          "base_uri": "https://localhost:8080/",
          "height": 330
        },
        "id": "hbytQX5CWvYS",
        "outputId": "2d6be100-4c65-4bf2-be21-1584142df44c"
      },
      "execution_count": 159,
      "outputs": [
        {
          "output_type": "display_data",
          "data": {
            "text/plain": [
              "<Figure size 576x396 with 1 Axes>"
            ],
            "image/png": "[encoded data removed]"
          },
          "metadata": {}
        }
      ]
    },
    {
      "cell_type": "code",
      "source": [
        "# Cálculo da variação percentual da quantidade de vendas entre os anos de 2008 e 2009\n",
        "qte_vendas_2008 = 18212\n",
        "qte_vendas_2009 = 38695\n",
        "variacao_percentual_vendas = f\"{(qte_vendas_2009 - qte_vendas_2008)/qte_vendas_2008*100:.2f}%\"\n",
        "\n",
        "print(f\"Houve um aumento na quantidade de vendas de {variacao_percentual_vendas} em 2009.\")"
      ],
      "metadata": {
        "colab": {
          "base_uri": "https://localhost:8080/"
        },
        "id": "8_xYs-gGXdRi",
        "outputId": "c563a1d2-af30-4bb6-c245-626367de7168"
      },
      "execution_count": 160,
      "outputs": [
        {
          "output_type": "stream",
          "name": "stdout",
          "text": [
            "Houve um aumento na quantidade de vendas de 112.47% em 2009.\n"
          ]
        }
      ]
    },
    {
      "cell_type": "code",
      "source": [
        "# Valor de venda por ano\n",
        "df.groupby(df[\"Data Venda\"].dt.year)[\"Valor Venda\"].sum().plot.pie(autopct='%.2f%%');"
      ],
      "metadata": {
        "colab": {
          "base_uri": "https://localhost:8080/",
          "height": 330
        },
        "id": "BrePsVVNw-3r",
        "outputId": "9eee9b31-2947-4318-fda3-b94d7699512b"
      },
      "execution_count": 161,
      "outputs": [
        {
          "output_type": "display_data",
          "data": {
            "text/plain": [
              "<Figure size 576x396 with 1 Axes>"
            ],
            "image/png": "[encoded data removed]"
          },
          "metadata": {}
        }
      ]
    },
    {
      "cell_type": "code",
      "source": [
        "valor_venda_anual= round(df.groupby(df[\"Data Venda\"].dt.year)[\"Valor Venda\"].sum(),2)\n",
        "valor_venda_anual\n"
      ],
      "metadata": {
        "colab": {
          "base_uri": "https://localhost:8080/"
        },
        "id": "D2LDQxPaxWPO",
        "outputId": "e177c214-7df4-436f-ff36-71987a2b3fce"
      },
      "execution_count": 162,
      "outputs": [
        {
          "output_type": "execute_result",
          "data": {
            "text/plain": [
              "Data Venda\n",
              "2008    3187607.65\n",
              "2009    2796998.49\n",
              "Name: Valor Venda, dtype: float64"
            ]
          },
          "metadata": {},
          "execution_count": 162
        }
      ]
    },
    {
      "cell_type": "code",
      "source": [
        "# Custo total por ano\n",
        "df.groupby(df[\"Data Venda\"].dt.year)[\"Custo Total\"].sum().plot.pie(autopct='%.2f%%');"
      ],
      "metadata": {
        "colab": {
          "base_uri": "https://localhost:8080/",
          "height": 330
        },
        "id": "kmbS6krN4NjK",
        "outputId": "f54b17d7-f517-4143-9659-4f8678eca65d"
      },
      "execution_count": 163,
      "outputs": [
        {
          "output_type": "display_data",
          "data": {
            "text/plain": [
              "<Figure size 576x396 with 1 Axes>"
            ],
            "image/png": "[encoded data removed]"
          },
          "metadata": {}
        }
      ]
    },
    {
      "cell_type": "code",
      "source": [
        "valor_custo_anual = round(df.groupby(df[\"Data Venda\"].dt.year)[\"Custo Total\"].sum(),2)\n",
        "valor_custo_anual"
      ],
      "metadata": {
        "colab": {
          "base_uri": "https://localhost:8080/"
        },
        "id": "dVyzmn-xxrt-",
        "outputId": "3a95b003-a54e-4de6-da69-dae66c04ba3f"
      },
      "execution_count": 164,
      "outputs": [
        {
          "output_type": "execute_result",
          "data": {
            "text/plain": [
              "Data Venda\n",
              "2008    1267529.94\n",
              "2009    1219253.11\n",
              "Name: Custo Total, dtype: float64"
            ]
          },
          "metadata": {},
          "execution_count": 164
        }
      ]
    },
    {
      "cell_type": "code",
      "source": [
        "# Ticket médio por ano\n",
        "ticket_medio = round(df.groupby(df[\"Data Venda\"].dt.year)[\"Valor Venda\"].mean(),2)\n",
        "ticket_medio"
      ],
      "metadata": {
        "colab": {
          "base_uri": "https://localhost:8080/"
        },
        "id": "m9UiiX02zcy2",
        "outputId": "6ef30891-0b4d-469b-82ab-39f49fc79e6c"
      },
      "execution_count": 165,
      "outputs": [
        {
          "output_type": "execute_result",
          "data": {
            "text/plain": [
              "Data Venda\n",
              "2008    6796.60\n",
              "2009    6429.88\n",
              "Name: Valor Venda, dtype: float64"
            ]
          },
          "metadata": {},
          "execution_count": 165
        }
      ]
    },
    {
      "cell_type": "markdown",
      "source": [
        "- Vimos anteriormente que o ano de 2008 foi mais lucrativo que o ano de 2009. No entanto, a quantidade de vendas duplicaram em 2009. Por que o lucro não aumentou?\n",
        "- Abaixo vamos verificar o preço unitário dos produtos assim como seu custo, para tentar responder a pergunta"
      ],
      "metadata": {
        "id": "CBbRWA3ulKNH"
      }
    },
    {
      "cell_type": "markdown",
      "source": [
        "\n",
        "\n",
        "> ### Produtos: Preços e Custos\n",
        "\n"
      ],
      "metadata": {
        "id": "oP7RdibBeo2x"
      }
    },
    {
      "cell_type": "code",
      "source": [
        "# Groupby por produto + a quantidade de produtos vendidos em 2008\n",
        "produtos_2008_tab = df_vendas_2008.groupby(df_vendas_2008[\"Produto\"])[\"Quantidade\"].sum()\n",
        "produtos_2008_tab"
      ],
      "metadata": {
        "colab": {
          "base_uri": "https://localhost:8080/"
        },
        "id": "xtqBiGrvSMvC",
        "outputId": "8cc4f817-5679-4642-d092-c130274a9428"
      },
      "execution_count": 166,
      "outputs": [
        {
          "output_type": "execute_result",
          "data": {
            "text/plain": [
              "Produto\n",
              "Adventure Works Laptop15.4W M1548 Black             456\n",
              "Adventure Works Laptop15.4W M1548 Red               452\n",
              "Fabrikam Trendsetter 1/3'' 8.5mm X200 Black         582\n",
              "Fabrikam Trendsetter 1/3'' 8.5mm X200 Grey          548\n",
              "Fabrikam Trendsetter 1/3'' 8.5mm X200 White         394\n",
              "Fabrikam Trendsetter 2/3'' 17mm X100 Black          517\n",
              "Fabrikam Trendsetter 2/3'' 17mm X100 Grey           630\n",
              "Headphone Adapter for Contoso Phone E130 Silver    7333\n",
              "Headphone Adapter for Contoso Phone E130 White     7300\n",
              "Name: Quantidade, dtype: int64"
            ]
          },
          "metadata": {},
          "execution_count": 166
        }
      ]
    },
    {
      "cell_type": "code",
      "source": [
        "# Groupby por produto + a quantidade de produtos vendidos em 2009\n"
      ],
      "metadata": {
        "id": "zQktbOejPemu"
      },
      "execution_count": 167,
      "outputs": []
    },
    {
      "cell_type": "code",
      "source": [
        "# Criando uma lista de produtos e outras duas listas com a quantidade de vendas dos respectivos produtos separadas por ano\n",
        "# Essas listas foram criadas com base nos 2 groupby acima (2008 e 2009)\n",
        "# Os produtos que tem o mesmo modelo (ex: Laptop M1548 Black, Laptop M1548 Red), porém cores diferentes, foram unidos para facilitar a visualização\n",
        "\n",
        "produtos = ['Laptop 15M1548','Trendsetter X200','Trendsetter X100','Headphone Adapter E130']      \n",
        "produtos_2008 = [908, 1524, 1147, 14633]\n",
        "produtos_2009 = [1228, 994, 866, 35607]"
      ],
      "metadata": {
        "id": "BFBgZdAU_YPW"
      },
      "execution_count": 168,
      "outputs": []
    },
    {
      "cell_type": "code",
      "source": [
        "# Gráfico de coluna agrupada para verificarmos qual produto vendeu mais em cada ano\n",
        "\n",
        "# Definindo a largura da barra\n",
        "barWidth = 0.25\n",
        "\n",
        "# Definindo a posição das barras\n",
        "r1 = np.arange(len(produtos_2008))\n",
        "r2 = [x + barWidth for x in r1]\n",
        "\n",
        "# Criando as barras\n",
        "plt.bar(r1,produtos_2008, width = barWidth, label='2008')\n",
        "plt.bar(r2,produtos_2009, width = barWidth, label='2009')\n",
        "\n",
        "\n",
        "# Add labels\n",
        "plt.xlabel('Produtos')\n",
        "plt.xticks([r + barWidth for r in range(len(produtos_2008))], produtos)\n",
        "plt.ylabel('Quantidade')\n",
        "plt.title('Quantidade Produtos - Visão Anual')\n",
        "plt.legend()\n",
        "\n"
      ],
      "metadata": {
        "colab": {
          "base_uri": "https://localhost:8080/",
          "height": 393
        },
        "id": "xjdt4_jKhXr_",
        "outputId": "534ecd98-c4c6-4c4b-d920-517adf7c1eaf"
      },
      "execution_count": 169,
      "outputs": [
        {
          "output_type": "execute_result",
          "data": {
            "text/plain": [
              "<matplotlib.legend.Legend at 0x7f9751bd47d0>"
            ]
          },
          "metadata": {},
          "execution_count": 169
        },
        {
          "output_type": "display_data",
          "data": {
            "text/plain": [
              "<Figure size 576x396 with 1 Axes>"
            ],
            "image/png": "[encoded data removed]"
          },
          "metadata": {}
        }
      ]
    },
    {
      "cell_type": "code",
      "source": [
        "# Verificando o preço unitário, custo unitário e percentual de custo de cada produto \n",
        "# Coluna preço unitário ordenada do maior para o menor\n",
        "\n",
        "tabela_preco_custo = df.groupby([\"Produto\"])[[\"Preço Unitário\", \"Custo Unitário\", \"Percentual Custo\"]].max()\n",
        "tabela_preco_custo.sort_values(\"Preço Unitário\",ascending=False)"
      ],
      "metadata": {
        "colab": {
          "base_uri": "https://localhost:8080/",
          "height": 363
        },
        "id": "W-8K4g18YuPt",
        "outputId": "0376a51e-1872-49c7-f3a8-7936a8ccdd68"
      },
      "execution_count": 173,
      "outputs": [
        {
          "output_type": "execute_result",
          "data": {
            "text/plain": [
              "                                                 Preço Unitário  \\\n",
              "Produto                                                           \n",
              "Fabrikam Trendsetter 1/3'' 8.5mm X200 Black              999.00   \n",
              "Fabrikam Trendsetter 1/3'' 8.5mm X200 Grey               998.00   \n",
              "Fabrikam Trendsetter 1/3'' 8.5mm X200 White              998.00   \n",
              "Fabrikam Trendsetter 2/3'' 17mm X100 Black               980.00   \n",
              "Fabrikam Trendsetter 2/3'' 17mm X100 Grey                980.00   \n",
              "Adventure Works Laptop15.4W M1548 Black                  758.00   \n",
              "Adventure Works Laptop15.4W M1548 Red                    758.00   \n",
              "Headphone Adapter for Contoso Phone E130 Silver            9.99   \n",
              "Headphone Adapter for Contoso Phone E130 White             9.99   \n",
              "\n",
              "                                                 Custo Unitário  \\\n",
              "Produto                                                           \n",
              "Fabrikam Trendsetter 1/3'' 8.5mm X200 Black              330.99   \n",
              "Fabrikam Trendsetter 1/3'' 8.5mm X200 Grey               330.66   \n",
              "Fabrikam Trendsetter 1/3'' 8.5mm X200 White              330.66   \n",
              "Fabrikam Trendsetter 2/3'' 17mm X100 Black               324.69   \n",
              "Fabrikam Trendsetter 2/3'' 17mm X100 Grey                324.69   \n",
              "Adventure Works Laptop15.4W M1548 Black                  348.58   \n",
              "Adventure Works Laptop15.4W M1548 Red                    348.58   \n",
              "Headphone Adapter for Contoso Phone E130 Silver            5.09   \n",
              "Headphone Adapter for Contoso Phone E130 White             5.09   \n",
              "\n",
              "                                                 Percentual Custo  \n",
              "Produto                                                            \n",
              "Fabrikam Trendsetter 1/3'' 8.5mm X200 Black                 33.13  \n",
              "Fabrikam Trendsetter 1/3'' 8.5mm X200 Grey                  33.13  \n",
              "Fabrikam Trendsetter 1/3'' 8.5mm X200 White                 33.13  \n",
              "Fabrikam Trendsetter 2/3'' 17mm X100 Black                  33.13  \n",
              "Fabrikam Trendsetter 2/3'' 17mm X100 Grey                   33.13  \n",
              "Adventure Works Laptop15.4W M1548 Black                     45.99  \n",
              "Adventure Works Laptop15.4W M1548 Red                       45.99  \n",
              "Headphone Adapter for Contoso Phone E130 Silver             50.95  \n",
              "Headphone Adapter for Contoso Phone E130 White              50.95  "
            ],
            "text/html": [
              "\n",
              "  <div id=\"df-def4e7e5-64e9-43ed-bc4e-1aa682d5f67e\">\n",
              "    <div class=\"colab-df-container\">\n",
              "      <div>\n",
              "<style scoped>\n",
              "    .dataframe tbody tr th:only-of-type {\n",
              "        vertical-align: middle;\n",
              "    }\n",
              "\n",
              "    .dataframe tbody tr th {\n",
              "        vertical-align: top;\n",
              "    }\n",
              "\n",
              "    .dataframe thead th {\n",
              "        text-align: right;\n",
              "    }\n",
              "</style>\n",
              "<table border=\"1\" class=\"dataframe\">\n",
              "  <thead>\n",
              "    <tr style=\"text-align: right;\">\n",
              "      <th></th>\n",
              "      <th>Preço Unitário</th>\n",
              "      <th>Custo Unitário</th>\n",
              "      <th>Percentual Custo</th>\n",
              "    </tr>\n",
              "    <tr>\n",
              "      <th>Produto</th>\n",
              "      <th></th>\n",
              "      <th></th>\n",
              "      <th></th>\n",
              "    </tr>\n",
              "  </thead>\n",
              "  <tbody>\n",
              "    <tr>\n",
              "      <th>Fabrikam Trendsetter 1/3'' 8.5mm X200 Black</th>\n",
              "      <td>999.00</td>\n",
              "      <td>330.99</td>\n",
              "      <td>33.13</td>\n",
              "    </tr>\n",
              "    <tr>\n",
              "      <th>Fabrikam Trendsetter 1/3'' 8.5mm X200 Grey</th>\n",
              "      <td>998.00</td>\n",
              "      <td>330.66</td>\n",
              "      <td>33.13</td>\n",
              "    </tr>\n",
              "    <tr>\n",
              "      <th>Fabrikam Trendsetter 1/3'' 8.5mm X200 White</th>\n",
              "      <td>998.00</td>\n",
              "      <td>330.66</td>\n",
              "      <td>33.13</td>\n",
              "    </tr>\n",
              "    <tr>\n",
              "      <th>Fabrikam Trendsetter 2/3'' 17mm X100 Black</th>\n",
              "      <td>980.00</td>\n",
              "      <td>324.69</td>\n",
              "      <td>33.13</td>\n",
              "    </tr>\n",
              "    <tr>\n",
              "      <th>Fabrikam Trendsetter 2/3'' 17mm X100 Grey</th>\n",
              "      <td>980.00</td>\n",
              "      <td>324.69</td>\n",
              "      <td>33.13</td>\n",
              "    </tr>\n",
              "    <tr>\n",
              "      <th>Adventure Works Laptop15.4W M1548 Black</th>\n",
              "      <td>758.00</td>\n",
              "      <td>348.58</td>\n",
              "      <td>45.99</td>\n",
              "    </tr>\n",
              "    <tr>\n",
              "      <th>Adventure Works Laptop15.4W M1548 Red</th>\n",
              "      <td>758.00</td>\n",
              "      <td>348.58</td>\n",
              "      <td>45.99</td>\n",
              "    </tr>\n",
              "    <tr>\n",
              "      <th>Headphone Adapter for Contoso Phone E130 Silver</th>\n",
              "      <td>9.99</td>\n",
              "      <td>5.09</td>\n",
              "      <td>50.95</td>\n",
              "    </tr>\n",
              "    <tr>\n",
              "      <th>Headphone Adapter for Contoso Phone E130 White</th>\n",
              "      <td>9.99</td>\n",
              "      <td>5.09</td>\n",
              "      <td>50.95</td>\n",
              "    </tr>\n",
              "  </tbody>\n",
              "</table>\n",
              "</div>\n",
              "      <button class=\"colab-df-convert\" onclick=\"convertToInteractive('df-def4e7e5-64e9-43ed-bc4e-1aa682d5f67e')\"\n",
              "              title=\"Convert this dataframe to an interactive table.\"\n",
              "              style=\"display:none;\">\n",
              "        \n",
              "  <svg xmlns=\"http://www.w3.org/2000/svg\" height=\"24px\"viewBox=\"0 0 24 24\"\n",
              "       width=\"24px\">\n",
              "    <path d=\"M0 0h24v24H0V0z\" fill=\"none\"/>\n",
              "    <path d=\"M18.56 5.44l.94 2.06.94-2.06 2.06-.94-2.06-.94-.94-2.06-.94 2.06-2.06.94zm-11 1L8.5 8.5l.94-2.06 2.06-.94-2.06-.94L8.5 2.5l-.94 2.06-2.06.94zm10 10l.94 2.06.94-2.06 2.06-.94-2.06-.94-.94-2.06-.94 2.06-2.06.94z\"/><path d=\"M17.41 7.96l-1.37-1.37c-.4-.4-.92-.59-1.43-.59-.52 0-1.04.2-1.43.59L10.3 9.45l-7.72 7.72c-.78.78-.78 2.05 0 2.83L4 21.41c.39.39.9.59 1.41.59.51 0 1.02-.2 1.41-.59l7.78-7.78 2.81-2.81c.8-.78.8-2.07 0-2.86zM5.41 20L4 18.59l7.72-7.72 1.47 1.35L5.41 20z\"/>\n",
              "  </svg>\n",
              "      </button>\n",
              "      \n",
              "  <style>\n",
              "    .colab-df-container {\n",
              "      display:flex;\n",
              "      flex-wrap:wrap;\n",
              "      gap: 12px;\n",
              "    }\n",
              "\n",
              "    .colab-df-convert {\n",
              "      background-color: #E8F0FE;\n",
              "      border: none;\n",
              "      border-radius: 50%;\n",
              "      cursor: pointer;\n",
              "      display: none;\n",
              "      fill: #1967D2;\n",
              "      height: 32px;\n",
              "      padding: 0 0 0 0;\n",
              "      width: 32px;\n",
              "    }\n",
              "\n",
              "    .colab-df-convert:hover {\n",
              "      background-color: #E2EBFA;\n",
              "      box-shadow: 0px 1px 2px rgba(60, 64, 67, 0.3), 0px 1px 3px 1px rgba(60, 64, 67, 0.15);\n",
              "      fill: #174EA6;\n",
              "    }\n",
              "\n",
              "    [theme=dark] .colab-df-convert {\n",
              "      background-color: #3B4455;\n",
              "      fill: #D2E3FC;\n",
              "    }\n",
              "\n",
              "    [theme=dark] .colab-df-convert:hover {\n",
              "      background-color: #434B5C;\n",
              "      box-shadow: 0px 1px 3px 1px rgba(0, 0, 0, 0.15);\n",
              "      filter: drop-shadow(0px 1px 2px rgba(0, 0, 0, 0.3));\n",
              "      fill: #FFFFFF;\n",
              "    }\n",
              "  </style>\n",
              "\n",
              "      <script>\n",
              "        const buttonEl =\n",
              "          document.querySelector('#df-def4e7e5-64e9-43ed-bc4e-1aa682d5f67e button.colab-df-convert');\n",
              "        buttonEl.style.display =\n",
              "          google.colab.kernel.accessAllowed ? 'block' : 'none';\n",
              "\n",
              "        async function convertToInteractive(key) {\n",
              "          const element = document.querySelector('#df-def4e7e5-64e9-43ed-bc4e-1aa682d5f67e');\n",
              "          const dataTable =\n",
              "            await google.colab.kernel.invokeFunction('convertToInteractive',\n",
              "                                                     [key], {});\n",
              "          if (!dataTable) return;\n",
              "\n",
              "          const docLinkHtml = 'Like what you see? Visit the ' +\n",
              "            '<a target=\"_blank\" href=https://colab.research.google.com/notebooks/data_table.ipynb>data table notebook</a>'\n",
              "            + ' to learn more about interactive tables.';\n",
              "          element.innerHTML = '';\n",
              "          dataTable['output_type'] = 'display_data';\n",
              "          await google.colab.output.renderOutput(dataTable, element);\n",
              "          const docLink = document.createElement('div');\n",
              "          docLink.innerHTML = docLinkHtml;\n",
              "          element.appendChild(docLink);\n",
              "        }\n",
              "      </script>\n",
              "    </div>\n",
              "  </div>\n",
              "  "
            ]
          },
          "metadata": {},
          "execution_count": 173
        }
      ]
    },
    {
      "cell_type": "markdown",
      "source": [
        "\n",
        "\n",
        "> ### Por que 2009 foi menos lucrativo que 2008?\n",
        "\n",
        "\n"
      ],
      "metadata": {
        "id": "20JZHYFtdISH"
      }
    },
    {
      "cell_type": "markdown",
      "source": [
        "\n",
        "\n",
        "> - No tópico \"Lucro anual\" vimos que o ano de 2008 foi mais lucrativo que o ano de 2009. \n",
        "- Em 2009, tivemos uma queda no lucro de 17,83%\n",
        "- Em \"Quantidade de vendas anuais x Valor de Venda Anuais\" observamos que em 2009 a **quantidade** de vendas duplicou, ainda assim seu lucro anual foi inferior ao ano anterior. Porém, quando fazemos essa mesma comparação em **valor** percebemos que 2008 teve um valor de vendas maior.\n",
        "- O produto mais vendido em 2009 foi \"Headphone Adapter\" - esse produto é o mais barato e tem o maior percentual de custo do dataset (50,95%).\n",
        "\n",
        "Concluímos então que o lucro de 2009 foi menor, porque o seu produto mais vendido é o que tem maior percentual de custo, o que acaba diminuindo o seu lucro.\n",
        "\n"
      ],
      "metadata": {
        "id": "wjghFBrPdZ-l"
      }
    }
  ]
}