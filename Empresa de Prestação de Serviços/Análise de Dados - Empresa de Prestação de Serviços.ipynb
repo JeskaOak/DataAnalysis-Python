{
 "cells": [
  {
   "cell_type": "markdown",
   "id": "965a7df1",
   "metadata": {},
   "source": [
    "### O que temos?\n",
    "\n",
    "Temos os dados de 2019 de uma empresa de prestação de serviços. Vamos usar 3 arquivos para a análise:\n",
    "\n",
    "    1. CadastroFuncionarios\n",
    "    2. CadastroClientes\n",
    "    3. BaseServiçoesPrestados\n",
    "\n",
    "\n",
    "### O que queremos descobrir?\n",
    "Temos algumas perguntas que precisam ser respondidas:\n",
    "\n",
    "    1. O valor total da folha salarial - Qual foi o gasto total com salários de funcionários?\n",
    "    2. Qual foi o faturamento da empresa?\n",
    "    3. Qual o percentual de funcionários que já fecharam algum contrato?\n",
    "    4. Quantos contratos cada área da empresa conseguiu fechar?\n",
    "    5. Qual o total de funcionários por área?\n",
    "    6. Qual o ticket médio mensal dos contratos?"
   ]
  },
  {
   "cell_type": "markdown",
   "id": "98109a17",
   "metadata": {},
   "source": [
    "#### Importando Bibliotecas e Arquivos"
   ]
  },
  {
   "cell_type": "code",
   "execution_count": 1,
   "id": "18b4a125",
   "metadata": {},
   "outputs": [],
   "source": [
    "# Importando biblioteca\n",
    "import pandas as pd\n",
    "\n",
    "# Carregando arquivos\n",
    "funcionarios_df = pd.read_csv('CadastroFuncionarios.csv', sep=';', decimal=',')\n",
    "clientes_df = pd.read_csv('CadastroClientes.csv',sep=';')\n",
    "servicos_df = pd.read_excel('BaseServicosPrestados.xlsx')\n"
   ]
  },
  {
   "cell_type": "markdown",
   "id": "5660ffe0",
   "metadata": {},
   "source": [
    "#### Exibindo as tabelas\n",
    "É importante conhecermos as colunas das tabelas que vamos trabalhar"
   ]
  },
  {
   "cell_type": "code",
   "execution_count": 2,
   "id": "1f15db8c",
   "metadata": {},
   "outputs": [
    {
     "data": {
      "text/html": [
       "<div>\n",
       "<style scoped>\n",
       "    .dataframe tbody tr th:only-of-type {\n",
       "        vertical-align: middle;\n",
       "    }\n",
       "\n",
       "    .dataframe tbody tr th {\n",
       "        vertical-align: top;\n",
       "    }\n",
       "\n",
       "    .dataframe thead th {\n",
       "        text-align: right;\n",
       "    }\n",
       "</style>\n",
       "<table border=\"1\" class=\"dataframe\">\n",
       "  <thead>\n",
       "    <tr style=\"text-align: right;\">\n",
       "      <th></th>\n",
       "      <th>ID Funcionário</th>\n",
       "      <th>Estado Civil</th>\n",
       "      <th>Nome Completo</th>\n",
       "      <th>Salario Base</th>\n",
       "      <th>Impostos</th>\n",
       "      <th>Beneficios</th>\n",
       "      <th>VT</th>\n",
       "      <th>VR</th>\n",
       "      <th>Cargo</th>\n",
       "      <th>Area</th>\n",
       "    </tr>\n",
       "  </thead>\n",
       "  <tbody>\n",
       "    <tr>\n",
       "      <th>0</th>\n",
       "      <td>1</td>\n",
       "      <td>C</td>\n",
       "      <td>Gabriel Mesquita</td>\n",
       "      <td>21910</td>\n",
       "      <td>10955.0</td>\n",
       "      <td>4382.0</td>\n",
       "      <td>242</td>\n",
       "      <td>719.04</td>\n",
       "      <td>Diretor</td>\n",
       "      <td>Operações</td>\n",
       "    </tr>\n",
       "    <tr>\n",
       "      <th>1</th>\n",
       "      <td>2</td>\n",
       "      <td>C</td>\n",
       "      <td>João Haddad</td>\n",
       "      <td>5404</td>\n",
       "      <td>2702.0</td>\n",
       "      <td>1080.8</td>\n",
       "      <td>154</td>\n",
       "      <td>574.56</td>\n",
       "      <td>Estagiário</td>\n",
       "      <td>Logística</td>\n",
       "    </tr>\n",
       "    <tr>\n",
       "      <th>2</th>\n",
       "      <td>3</td>\n",
       "      <td>C</td>\n",
       "      <td>Amanda Marques Ribeiro</td>\n",
       "      <td>16066</td>\n",
       "      <td>8033.0</td>\n",
       "      <td>3213.2</td>\n",
       "      <td>154</td>\n",
       "      <td>729.12</td>\n",
       "      <td>Estagiário</td>\n",
       "      <td>Administrativo</td>\n",
       "    </tr>\n",
       "    <tr>\n",
       "      <th>3</th>\n",
       "      <td>4</td>\n",
       "      <td>C</td>\n",
       "      <td>Guilherme Nunez</td>\n",
       "      <td>21305</td>\n",
       "      <td>10652.5</td>\n",
       "      <td>4261.0</td>\n",
       "      <td>220</td>\n",
       "      <td>524.16</td>\n",
       "      <td>Analista</td>\n",
       "      <td>Administrativo</td>\n",
       "    </tr>\n",
       "    <tr>\n",
       "      <th>4</th>\n",
       "      <td>5</td>\n",
       "      <td>C</td>\n",
       "      <td>Adelino Gomes</td>\n",
       "      <td>5098</td>\n",
       "      <td>2549.0</td>\n",
       "      <td>1019.6</td>\n",
       "      <td>176</td>\n",
       "      <td>725.76</td>\n",
       "      <td>Analista</td>\n",
       "      <td>Administrativo</td>\n",
       "    </tr>\n",
       "    <tr>\n",
       "      <th>...</th>\n",
       "      <td>...</td>\n",
       "      <td>...</td>\n",
       "      <td>...</td>\n",
       "      <td>...</td>\n",
       "      <td>...</td>\n",
       "      <td>...</td>\n",
       "      <td>...</td>\n",
       "      <td>...</td>\n",
       "      <td>...</td>\n",
       "      <td>...</td>\n",
       "    </tr>\n",
       "    <tr>\n",
       "      <th>109</th>\n",
       "      <td>143</td>\n",
       "      <td>C</td>\n",
       "      <td>Renan Scharnhorst Ott</td>\n",
       "      <td>10793</td>\n",
       "      <td>5396.5</td>\n",
       "      <td>2158.6</td>\n",
       "      <td>242</td>\n",
       "      <td>514.08</td>\n",
       "      <td>Analista</td>\n",
       "      <td>Logística</td>\n",
       "    </tr>\n",
       "    <tr>\n",
       "      <th>110</th>\n",
       "      <td>144</td>\n",
       "      <td>S</td>\n",
       "      <td>Lucas Brum Pereira</td>\n",
       "      <td>4048</td>\n",
       "      <td>2024.0</td>\n",
       "      <td>809.6</td>\n",
       "      <td>198</td>\n",
       "      <td>796.32</td>\n",
       "      <td>Estagiário</td>\n",
       "      <td>Comercial</td>\n",
       "    </tr>\n",
       "    <tr>\n",
       "      <th>111</th>\n",
       "      <td>148</td>\n",
       "      <td>S</td>\n",
       "      <td>Caio Stellet</td>\n",
       "      <td>24596</td>\n",
       "      <td>12298.0</td>\n",
       "      <td>4919.2</td>\n",
       "      <td>242</td>\n",
       "      <td>561.12</td>\n",
       "      <td>Analista</td>\n",
       "      <td>Administrativo</td>\n",
       "    </tr>\n",
       "    <tr>\n",
       "      <th>112</th>\n",
       "      <td>149</td>\n",
       "      <td>C</td>\n",
       "      <td>Fernanda Rocha</td>\n",
       "      <td>5078</td>\n",
       "      <td>2539.0</td>\n",
       "      <td>1015.6</td>\n",
       "      <td>308</td>\n",
       "      <td>665.28</td>\n",
       "      <td>Estagiário</td>\n",
       "      <td>Comercial</td>\n",
       "    </tr>\n",
       "    <tr>\n",
       "      <th>113</th>\n",
       "      <td>150</td>\n",
       "      <td>C</td>\n",
       "      <td>Eduardo Brum</td>\n",
       "      <td>15939</td>\n",
       "      <td>7969.5</td>\n",
       "      <td>3187.8</td>\n",
       "      <td>220</td>\n",
       "      <td>769.44</td>\n",
       "      <td>Analista</td>\n",
       "      <td>Comercial</td>\n",
       "    </tr>\n",
       "  </tbody>\n",
       "</table>\n",
       "<p>114 rows × 10 columns</p>\n",
       "</div>"
      ],
      "text/plain": [
       "     ID Funcionário Estado Civil           Nome Completo  Salario Base  \\\n",
       "0                 1            C        Gabriel Mesquita         21910   \n",
       "1                 2            C             João Haddad          5404   \n",
       "2                 3            C  Amanda Marques Ribeiro         16066   \n",
       "3                 4            C         Guilherme Nunez         21305   \n",
       "4                 5            C           Adelino Gomes          5098   \n",
       "..              ...          ...                     ...           ...   \n",
       "109             143            C   Renan Scharnhorst Ott         10793   \n",
       "110             144            S      Lucas Brum Pereira          4048   \n",
       "111             148            S            Caio Stellet         24596   \n",
       "112             149            C          Fernanda Rocha          5078   \n",
       "113             150            C            Eduardo Brum         15939   \n",
       "\n",
       "     Impostos  Beneficios   VT      VR       Cargo            Area  \n",
       "0     10955.0      4382.0  242  719.04     Diretor       Operações  \n",
       "1      2702.0      1080.8  154  574.56  Estagiário       Logística  \n",
       "2      8033.0      3213.2  154  729.12  Estagiário  Administrativo  \n",
       "3     10652.5      4261.0  220  524.16    Analista  Administrativo  \n",
       "4      2549.0      1019.6  176  725.76    Analista  Administrativo  \n",
       "..        ...         ...  ...     ...         ...             ...  \n",
       "109    5396.5      2158.6  242  514.08    Analista       Logística  \n",
       "110    2024.0       809.6  198  796.32  Estagiário       Comercial  \n",
       "111   12298.0      4919.2  242  561.12    Analista  Administrativo  \n",
       "112    2539.0      1015.6  308  665.28  Estagiário       Comercial  \n",
       "113    7969.5      3187.8  220  769.44    Analista       Comercial  \n",
       "\n",
       "[114 rows x 10 columns]"
      ]
     },
     "metadata": {},
     "output_type": "display_data"
    },
    {
     "data": {
      "text/html": [
       "<div>\n",
       "<style scoped>\n",
       "    .dataframe tbody tr th:only-of-type {\n",
       "        vertical-align: middle;\n",
       "    }\n",
       "\n",
       "    .dataframe tbody tr th {\n",
       "        vertical-align: top;\n",
       "    }\n",
       "\n",
       "    .dataframe thead th {\n",
       "        text-align: right;\n",
       "    }\n",
       "</style>\n",
       "<table border=\"1\" class=\"dataframe\">\n",
       "  <thead>\n",
       "    <tr style=\"text-align: right;\">\n",
       "      <th></th>\n",
       "      <th>ID Cliente</th>\n",
       "      <th>Cliente</th>\n",
       "      <th>Valor Contrato Mensal</th>\n",
       "    </tr>\n",
       "  </thead>\n",
       "  <tbody>\n",
       "    <tr>\n",
       "      <th>0</th>\n",
       "      <td>1</td>\n",
       "      <td>Teixeira Gonçalves</td>\n",
       "      <td>540</td>\n",
       "    </tr>\n",
       "    <tr>\n",
       "      <th>1</th>\n",
       "      <td>2</td>\n",
       "      <td>Souza Santos</td>\n",
       "      <td>1260</td>\n",
       "    </tr>\n",
       "    <tr>\n",
       "      <th>2</th>\n",
       "      <td>3</td>\n",
       "      <td>Emídio Alves</td>\n",
       "      <td>3195</td>\n",
       "    </tr>\n",
       "    <tr>\n",
       "      <th>3</th>\n",
       "      <td>4</td>\n",
       "      <td>Santos Costa</td>\n",
       "      <td>2520</td>\n",
       "    </tr>\n",
       "    <tr>\n",
       "      <th>4</th>\n",
       "      <td>5</td>\n",
       "      <td>Do Monteiro</td>\n",
       "      <td>3510</td>\n",
       "    </tr>\n",
       "    <tr>\n",
       "      <th>...</th>\n",
       "      <td>...</td>\n",
       "      <td>...</td>\n",
       "      <td>...</td>\n",
       "    </tr>\n",
       "    <tr>\n",
       "      <th>315</th>\n",
       "      <td>316</td>\n",
       "      <td>Manoel Costa</td>\n",
       "      <td>3690</td>\n",
       "    </tr>\n",
       "    <tr>\n",
       "      <th>316</th>\n",
       "      <td>317</td>\n",
       "      <td>Gomes Machado</td>\n",
       "      <td>2385</td>\n",
       "    </tr>\n",
       "    <tr>\n",
       "      <th>317</th>\n",
       "      <td>318</td>\n",
       "      <td>Alkindar Cardozo</td>\n",
       "      <td>3510</td>\n",
       "    </tr>\n",
       "    <tr>\n",
       "      <th>318</th>\n",
       "      <td>319</td>\n",
       "      <td>Pereira Fazenda</td>\n",
       "      <td>4185</td>\n",
       "    </tr>\n",
       "    <tr>\n",
       "      <th>319</th>\n",
       "      <td>320</td>\n",
       "      <td>Americo Damasceno</td>\n",
       "      <td>2430</td>\n",
       "    </tr>\n",
       "  </tbody>\n",
       "</table>\n",
       "<p>320 rows × 3 columns</p>\n",
       "</div>"
      ],
      "text/plain": [
       "     ID Cliente             Cliente  Valor Contrato Mensal\n",
       "0             1  Teixeira Gonçalves                    540\n",
       "1             2        Souza Santos                   1260\n",
       "2             3        Emídio Alves                   3195\n",
       "3             4        Santos Costa                   2520\n",
       "4             5         Do Monteiro                   3510\n",
       "..          ...                 ...                    ...\n",
       "315         316        Manoel Costa                   3690\n",
       "316         317       Gomes Machado                   2385\n",
       "317         318    Alkindar Cardozo                   3510\n",
       "318         319     Pereira Fazenda                   4185\n",
       "319         320   Americo Damasceno                   2430\n",
       "\n",
       "[320 rows x 3 columns]"
      ]
     },
     "metadata": {},
     "output_type": "display_data"
    },
    {
     "data": {
      "text/html": [
       "<div>\n",
       "<style scoped>\n",
       "    .dataframe tbody tr th:only-of-type {\n",
       "        vertical-align: middle;\n",
       "    }\n",
       "\n",
       "    .dataframe tbody tr th {\n",
       "        vertical-align: top;\n",
       "    }\n",
       "\n",
       "    .dataframe thead th {\n",
       "        text-align: right;\n",
       "    }\n",
       "</style>\n",
       "<table border=\"1\" class=\"dataframe\">\n",
       "  <thead>\n",
       "    <tr style=\"text-align: right;\">\n",
       "      <th></th>\n",
       "      <th>Codigo do Servico</th>\n",
       "      <th>ID Funcionário</th>\n",
       "      <th>ID Cliente</th>\n",
       "      <th>Tempo Total de Contrato (Meses)</th>\n",
       "    </tr>\n",
       "  </thead>\n",
       "  <tbody>\n",
       "    <tr>\n",
       "      <th>0</th>\n",
       "      <td>OS0001</td>\n",
       "      <td>67</td>\n",
       "      <td>1</td>\n",
       "      <td>14</td>\n",
       "    </tr>\n",
       "    <tr>\n",
       "      <th>1</th>\n",
       "      <td>OS0002</td>\n",
       "      <td>17</td>\n",
       "      <td>2</td>\n",
       "      <td>12</td>\n",
       "    </tr>\n",
       "    <tr>\n",
       "      <th>2</th>\n",
       "      <td>OS0003</td>\n",
       "      <td>116</td>\n",
       "      <td>4</td>\n",
       "      <td>14</td>\n",
       "    </tr>\n",
       "    <tr>\n",
       "      <th>3</th>\n",
       "      <td>OS0004</td>\n",
       "      <td>37</td>\n",
       "      <td>5</td>\n",
       "      <td>8</td>\n",
       "    </tr>\n",
       "    <tr>\n",
       "      <th>4</th>\n",
       "      <td>OS0005</td>\n",
       "      <td>130</td>\n",
       "      <td>6</td>\n",
       "      <td>8</td>\n",
       "    </tr>\n",
       "    <tr>\n",
       "      <th>...</th>\n",
       "      <td>...</td>\n",
       "      <td>...</td>\n",
       "      <td>...</td>\n",
       "      <td>...</td>\n",
       "    </tr>\n",
       "    <tr>\n",
       "      <th>232</th>\n",
       "      <td>OS0233</td>\n",
       "      <td>111</td>\n",
       "      <td>315</td>\n",
       "      <td>4</td>\n",
       "    </tr>\n",
       "    <tr>\n",
       "      <th>233</th>\n",
       "      <td>OS0234</td>\n",
       "      <td>124</td>\n",
       "      <td>316</td>\n",
       "      <td>8</td>\n",
       "    </tr>\n",
       "    <tr>\n",
       "      <th>234</th>\n",
       "      <td>OS0235</td>\n",
       "      <td>72</td>\n",
       "      <td>317</td>\n",
       "      <td>6</td>\n",
       "    </tr>\n",
       "    <tr>\n",
       "      <th>235</th>\n",
       "      <td>OS0236</td>\n",
       "      <td>90</td>\n",
       "      <td>319</td>\n",
       "      <td>14</td>\n",
       "    </tr>\n",
       "    <tr>\n",
       "      <th>236</th>\n",
       "      <td>OS0237</td>\n",
       "      <td>22</td>\n",
       "      <td>320</td>\n",
       "      <td>12</td>\n",
       "    </tr>\n",
       "  </tbody>\n",
       "</table>\n",
       "<p>237 rows × 4 columns</p>\n",
       "</div>"
      ],
      "text/plain": [
       "    Codigo do Servico  ID Funcionário  ID Cliente  \\\n",
       "0              OS0001              67           1   \n",
       "1              OS0002              17           2   \n",
       "2              OS0003             116           4   \n",
       "3              OS0004              37           5   \n",
       "4              OS0005             130           6   \n",
       "..                ...             ...         ...   \n",
       "232            OS0233             111         315   \n",
       "233            OS0234             124         316   \n",
       "234            OS0235              72         317   \n",
       "235            OS0236              90         319   \n",
       "236            OS0237              22         320   \n",
       "\n",
       "     Tempo Total de Contrato (Meses)  \n",
       "0                                 14  \n",
       "1                                 12  \n",
       "2                                 14  \n",
       "3                                  8  \n",
       "4                                  8  \n",
       "..                               ...  \n",
       "232                                4  \n",
       "233                                8  \n",
       "234                                6  \n",
       "235                               14  \n",
       "236                               12  \n",
       "\n",
       "[237 rows x 4 columns]"
      ]
     },
     "metadata": {},
     "output_type": "display_data"
    }
   ],
   "source": [
    "display(funcionarios_df)\n",
    "display(clientes_df)\n",
    "display(servicos_df)"
   ]
  },
  {
   "cell_type": "markdown",
   "id": "1ceec06c",
   "metadata": {},
   "source": [
    "#### Tratamento de Dados\n",
    "- Excluir colunas que não serão utilizadas\n",
    "- Verificar tipos de colunas\n",
    "- Verificar se há valores nulos"
   ]
  },
  {
   "cell_type": "code",
   "execution_count": 3,
   "id": "5d394abb",
   "metadata": {},
   "outputs": [
    {
     "data": {
      "text/html": [
       "<div>\n",
       "<style scoped>\n",
       "    .dataframe tbody tr th:only-of-type {\n",
       "        vertical-align: middle;\n",
       "    }\n",
       "\n",
       "    .dataframe tbody tr th {\n",
       "        vertical-align: top;\n",
       "    }\n",
       "\n",
       "    .dataframe thead th {\n",
       "        text-align: right;\n",
       "    }\n",
       "</style>\n",
       "<table border=\"1\" class=\"dataframe\">\n",
       "  <thead>\n",
       "    <tr style=\"text-align: right;\">\n",
       "      <th></th>\n",
       "      <th>ID Funcionário</th>\n",
       "      <th>Nome Completo</th>\n",
       "      <th>Salario Base</th>\n",
       "      <th>Impostos</th>\n",
       "      <th>Beneficios</th>\n",
       "      <th>VT</th>\n",
       "      <th>VR</th>\n",
       "      <th>Area</th>\n",
       "    </tr>\n",
       "  </thead>\n",
       "  <tbody>\n",
       "    <tr>\n",
       "      <th>0</th>\n",
       "      <td>1</td>\n",
       "      <td>Gabriel Mesquita</td>\n",
       "      <td>21910</td>\n",
       "      <td>10955.0</td>\n",
       "      <td>4382.0</td>\n",
       "      <td>242</td>\n",
       "      <td>719.04</td>\n",
       "      <td>Operações</td>\n",
       "    </tr>\n",
       "  </tbody>\n",
       "</table>\n",
       "</div>"
      ],
      "text/plain": [
       "   ID Funcionário     Nome Completo  Salario Base  Impostos  Beneficios   VT  \\\n",
       "0               1  Gabriel Mesquita         21910   10955.0      4382.0  242   \n",
       "\n",
       "       VR       Area  \n",
       "0  719.04  Operações  "
      ]
     },
     "execution_count": 3,
     "metadata": {},
     "output_type": "execute_result"
    }
   ],
   "source": [
    "# Excluindo Colunas\n",
    "funcionarios_df = funcionarios_df.drop(['Estado Civil', 'Cargo'], axis=1)\n",
    "\n",
    "# Verificando se a exclusão das colunas Estado Civil e Cargo foi realizada\n",
    "funcionarios_df.head(1)"
   ]
  },
  {
   "cell_type": "code",
   "execution_count": 4,
   "id": "5176fa34",
   "metadata": {},
   "outputs": [
    {
     "name": "stdout",
     "output_type": "stream",
     "text": [
      "<class 'pandas.core.frame.DataFrame'>\n",
      "RangeIndex: 114 entries, 0 to 113\n",
      "Data columns (total 8 columns):\n",
      " #   Column          Non-Null Count  Dtype  \n",
      "---  ------          --------------  -----  \n",
      " 0   ID Funcionário  114 non-null    int64  \n",
      " 1   Nome Completo   114 non-null    object \n",
      " 2   Salario Base    114 non-null    int64  \n",
      " 3   Impostos        114 non-null    float64\n",
      " 4   Beneficios      114 non-null    float64\n",
      " 5   VT              114 non-null    int64  \n",
      " 6   VR              114 non-null    float64\n",
      " 7   Area            114 non-null    object \n",
      "dtypes: float64(3), int64(3), object(2)\n",
      "memory usage: 7.2+ KB\n",
      "\n",
      "<class 'pandas.core.frame.DataFrame'>\n",
      "RangeIndex: 320 entries, 0 to 319\n",
      "Data columns (total 3 columns):\n",
      " #   Column                 Non-Null Count  Dtype \n",
      "---  ------                 --------------  ----- \n",
      " 0   ID Cliente             320 non-null    int64 \n",
      " 1   Cliente                320 non-null    object\n",
      " 2   Valor Contrato Mensal  320 non-null    int64 \n",
      "dtypes: int64(2), object(1)\n",
      "memory usage: 7.6+ KB\n",
      "\n",
      "<class 'pandas.core.frame.DataFrame'>\n",
      "RangeIndex: 237 entries, 0 to 236\n",
      "Data columns (total 4 columns):\n",
      " #   Column                           Non-Null Count  Dtype \n",
      "---  ------                           --------------  ----- \n",
      " 0   Codigo do Servico                237 non-null    object\n",
      " 1   ID Funcionário                   237 non-null    int64 \n",
      " 2   ID Cliente                       237 non-null    int64 \n",
      " 3   Tempo Total de Contrato (Meses)  237 non-null    int64 \n",
      "dtypes: int64(3), object(1)\n",
      "memory usage: 7.5+ KB\n"
     ]
    }
   ],
   "source": [
    "# Verificando se há informações nulas e conhecendo o tipo de cada coluna\n",
    "funcionarios_df.info()\n",
    "print()\n",
    "clientes_df.info()\n",
    "print()\n",
    "servicos_df.info()"
   ]
  },
  {
   "cell_type": "markdown",
   "id": "1a7ce6b9",
   "metadata": {},
   "source": [
    "### Respondendo as perguntas\n",
    "\n",
    "#### 1. O valor total da folha salarial - Qual foi o gasto total com salários de funcionários?\n",
    "Para responder essa pergunta, vamos criar uma coluna chamada \"Salario Total\" que terá o resultado da soma das seguintes colunas: \n",
    "   1. Salario Base\t\n",
    "   2. Impostos\t\n",
    "   3. Beneficios\t\n",
    "   4. VT\t\n",
    "   5. VR\t\n",
    "\n",
    "E depois vamos somar o valor da coluna 'Salario Total'."
   ]
  },
  {
   "cell_type": "code",
   "execution_count": 5,
   "id": "c78e07b4",
   "metadata": {},
   "outputs": [
    {
     "name": "stdout",
     "output_type": "stream",
     "text": [
      "O valor total da folha salarial é de R$2717493.22\n"
     ]
    }
   ],
   "source": [
    "funcionarios_df['Salario Total'] = funcionarios_df.iloc[:, 2:7].sum(axis=1)\n",
    "\n",
    "total_folha_salarial = funcionarios_df['Salario Total'].sum()\n",
    "\n",
    "print(f'O valor total da folha salarial é de R${total_folha_salarial:.2f}')"
   ]
  },
  {
   "cell_type": "markdown",
   "id": "83ecc906",
   "metadata": {},
   "source": [
    "#### 2. Qual foi o faturamento da empresa?\n",
    "\n",
    "Para essa questão, vamos unir os datasets BaseServicosPrestados e CadastroClientes. Isso porque na base de clientes temos o valor mensal gasto por cada cliente e na base de serviços temos a quantidade de meses que o cliente pagou. Então multiplicaremos uma informação pela outra.\n",
    "\n",
    "Para unir as tabelas usaremos o merge. Para que a união ocorra é necessário que as tabelas tenham ao menos uma coluna em comum, pois a união é feita através do nome da coluna.\n",
    "\n",
    "As tabelas BaseServicosPrestados e CadastroClientes tem a coluna 'ID Cliente' em comum.\n",
    "\n",
    "Após a união de tabelas, criaremos uma coluna chamada 'Faturamento Total', que será a multiplicação entre o valor do contrato e o tempo de contrato. Por fim, somaremos os valores da coluna 'Faturamento Total'."
   ]
  },
  {
   "cell_type": "code",
   "execution_count": 6,
   "id": "7ec59b89",
   "metadata": {
    "scrolled": true
   },
   "outputs": [
    {
     "data": {
      "text/html": [
       "<div>\n",
       "<style scoped>\n",
       "    .dataframe tbody tr th:only-of-type {\n",
       "        vertical-align: middle;\n",
       "    }\n",
       "\n",
       "    .dataframe tbody tr th {\n",
       "        vertical-align: top;\n",
       "    }\n",
       "\n",
       "    .dataframe thead th {\n",
       "        text-align: right;\n",
       "    }\n",
       "</style>\n",
       "<table border=\"1\" class=\"dataframe\">\n",
       "  <thead>\n",
       "    <tr style=\"text-align: right;\">\n",
       "      <th></th>\n",
       "      <th>Codigo do Servico</th>\n",
       "      <th>ID Funcionário</th>\n",
       "      <th>ID Cliente</th>\n",
       "      <th>Tempo Total de Contrato (Meses)</th>\n",
       "      <th>Cliente</th>\n",
       "      <th>Valor Contrato Mensal</th>\n",
       "    </tr>\n",
       "  </thead>\n",
       "  <tbody>\n",
       "    <tr>\n",
       "      <th>0</th>\n",
       "      <td>OS0001</td>\n",
       "      <td>67</td>\n",
       "      <td>1</td>\n",
       "      <td>14</td>\n",
       "      <td>Teixeira Gonçalves</td>\n",
       "      <td>540</td>\n",
       "    </tr>\n",
       "  </tbody>\n",
       "</table>\n",
       "</div>"
      ],
      "text/plain": [
       "  Codigo do Servico  ID Funcionário  ID Cliente  \\\n",
       "0            OS0001              67           1   \n",
       "\n",
       "   Tempo Total de Contrato (Meses)             Cliente  Valor Contrato Mensal  \n",
       "0                               14  Teixeira Gonçalves                    540  "
      ]
     },
     "execution_count": 6,
     "metadata": {},
     "output_type": "execute_result"
    }
   ],
   "source": [
    "# Unindo tabelas\n",
    "faturamento_df = servicos_df.merge(clientes_df, on='ID Cliente')\n",
    "\n",
    "# Verificando se a união funcionou\n",
    "faturamento_df.head(1)"
   ]
  },
  {
   "cell_type": "code",
   "execution_count": 7,
   "id": "3a8e9ec2",
   "metadata": {},
   "outputs": [
    {
     "name": "stdout",
     "output_type": "stream",
     "text": [
      "O faturamento da empresa foi de R$5519160.00\n"
     ]
    }
   ],
   "source": [
    "faturamento_df['Faturamento Total'] = faturamento_df['Valor Contrato Mensal'] * faturamento_df['Tempo Total de Contrato (Meses)']\n",
    "faturamento_total = faturamento_df['Faturamento Total'].sum()\n",
    "\n",
    "print(f'O faturamento da empresa foi de R${faturamento_total:.2f}')"
   ]
  },
  {
   "cell_type": "markdown",
   "id": "cf1b4454",
   "metadata": {},
   "source": [
    "#### 3. Qual o percentual de funcionários que já fechou algum contrato?\n",
    "\n",
    "Primeiramente, vou guardar em uma variável o valor total de funcionários da empresa. Para isso vou usar um count na tabela funcionarios_df na coluna de 'ID Funcionario'. As informações dessa tabela são únicas, ou seja, não há funcionários repetidos.\n",
    "\n",
    "O mesmo funcionário pode ter fechado mais de um contrato. Então, na tabela de serviços prestados, vou utilizar o método unique, para contar somente uma vez cada funcionário. Após isso, vamos calcular a quantidade de funcionários que fecharam algum contrado dividido pela quantidade total de funcionários e assim obteremos o percentual."
   ]
  },
  {
   "cell_type": "code",
   "execution_count": 8,
   "id": "676e95bb",
   "metadata": {},
   "outputs": [
    {
     "name": "stdout",
     "output_type": "stream",
     "text": [
      "A empresa tem um total de 114 funcionários.\n"
     ]
    }
   ],
   "source": [
    "# Verificando o número total de funcionário pelo ID (que não se repete) e guardando o número em uma variável\n",
    "total_funcionarios = funcionarios_df['ID Funcionário'].count()\n",
    "\n",
    "print(f'A empresa tem um total de {total_funcionarios} funcionários.')\n"
   ]
  },
  {
   "cell_type": "code",
   "execution_count": 9,
   "id": "06d562c3",
   "metadata": {},
   "outputs": [
    {
     "name": "stdout",
     "output_type": "stream",
     "text": [
      "99 funcionários fecharam algum contrato.\n"
     ]
    }
   ],
   "source": [
    "# Usando unique na tabela de serviços\n",
    "funcionario_fecha_contrato = servicos_df['ID Funcionário'].unique()\n",
    "\n",
    "# O método unique retornou um array, então vamos contar os elementos do array\n",
    "funcionario_fecha_contrato = len(funcionario_fecha_contrato)\n",
    "\n",
    "print(f'{funcionario_fecha_contrato} funcionários fecharam algum contrato.')"
   ]
  },
  {
   "cell_type": "code",
   "execution_count": 10,
   "id": "20d1b367",
   "metadata": {},
   "outputs": [
    {
     "name": "stdout",
     "output_type": "stream",
     "text": [
      "87% dos funcionários fecharam algum contrato.\n"
     ]
    }
   ],
   "source": [
    "# Calculando o percentual de funcionários que fecharam contrato.\n",
    "percentual_fecha_contrato = f'{funcionario_fecha_contrato / total_funcionarios:.0%}'\n",
    "print(f'{percentual_fecha_contrato} dos funcionários fecharam algum contrato.')"
   ]
  },
  {
   "cell_type": "markdown",
   "id": "a3e8b314",
   "metadata": {},
   "source": [
    "#### 4. Quantos contratos cada área da empresa conseguiu fechar?\n",
    "\n",
    "Neste exercício vamos unir as tabelas de serviços com a de funcionários. Após isso, vamos contar quantas vezes cada área aparece.\n"
   ]
  },
  {
   "cell_type": "code",
   "execution_count": 18,
   "id": "93dc3881",
   "metadata": {},
   "outputs": [
    {
     "data": {
      "text/plain": [
       "Administrativo    63\n",
       "Operações         48\n",
       "Comercial         44\n",
       "Financeiro        42\n",
       "Logística         40\n",
       "Name: Area, dtype: int64"
      ]
     },
     "metadata": {},
     "output_type": "display_data"
    }
   ],
   "source": [
    "# Unindo as tabelas\n",
    "contratos_areas_df = servicos_df.merge(funcionarios_df, on='ID Funcionário')\n",
    "\n",
    "# Contando valores da coluna área\n",
    "contratos_areas_qtde = contratos_areas_df['Area'].value_counts()\n",
    "\n",
    "# Exibindo resultado\n",
    "display(contratos_areas_qtde)"
   ]
  },
  {
   "cell_type": "markdown",
   "id": "4e495e28",
   "metadata": {},
   "source": [
    "#### 5. Qual o total de funcionários por área?\n",
    "\n",
    "Exercício semelhante ao anterior. Vamos contar os valores da coluna Área, porém sem fazer merge dessa vez. Usaremos apenas a tabela de funcionários"
   ]
  },
  {
   "cell_type": "code",
   "execution_count": 19,
   "id": "522be8d9",
   "metadata": {},
   "outputs": [
    {
     "data": {
      "text/plain": [
       "Administrativo    26\n",
       "Comercial         26\n",
       "Operações         23\n",
       "Logística         21\n",
       "Financeiro        18\n",
       "Name: Area, dtype: int64"
      ]
     },
     "execution_count": 19,
     "metadata": {},
     "output_type": "execute_result"
    }
   ],
   "source": [
    "# Contando valores da coluna área\n",
    "funcionarios_df['Area'].value_counts()"
   ]
  },
  {
   "cell_type": "code",
   "execution_count": 24,
   "id": "b42fc823",
   "metadata": {},
   "outputs": [
    {
     "data": {
      "text/plain": [
       "<AxesSubplot:>"
      ]
     },
     "execution_count": 24,
     "metadata": {},
     "output_type": "execute_result"
    },
    {
     "data": {
      "image/png": "[encoded data removed]",
      "text/plain": [
       "<Figure size 800x300 with 1 Axes>"
      ]
     },
     "metadata": {},
     "output_type": "display_data"
    }
   ],
   "source": [
    "# Exibindo quantidade de funcionários por área em gráfico\n",
    "funcionarios_df['Area'].value_counts().plot(kind='bar',figsize=(8,3))"
   ]
  },
  {
   "cell_type": "markdown",
   "id": "d187cd60",
   "metadata": {},
   "source": [
    "#### 6. Qual o ticket médio mensal dos contratos?\n",
    "\n",
    "Neste exercício, basta usar o método mean() para calcular a média da coluna que mostra os valores dos contratos."
   ]
  },
  {
   "cell_type": "code",
   "execution_count": 25,
   "id": "7fccda48",
   "metadata": {},
   "outputs": [
    {
     "name": "stdout",
     "output_type": "stream",
     "text": [
      " O ticket médio mensal dos contratos é de R$2502.56\n"
     ]
    }
   ],
   "source": [
    "# Calculando a média dos valores dos contratos\n",
    "ticket_medio = clientes_df['Valor Contrato Mensal'].mean()\n",
    "print(f' O ticket médio mensal dos contratos é de R${ticket_medio:.2f}')"
   ]
  },
  {
   "cell_type": "markdown",
   "id": "16430c86",
   "metadata": {},
   "source": [
    "### Resumo\n",
    "\n",
    "Através das questões respondidas, descobrimos que:\n",
    "    \n",
    "    1. O valor total da folha salarial é de 2.717.493,22\n",
    "    2. O faturamento da empresa foi de 5.519.160,00 \n",
    "    3. A empresa tem um total de 114 funcionário, sendo que 99 deles - que representam 87% do todo fecharam algum contrato\n",
    "    4. O ticket médio mensal dos contratos é de 2.502,56\n",
    "\n",
    "### Conclusão\n",
    "\n",
    "A partir do resumo acima, podemos concluir que:\n",
    "\n",
    "   1. Subtraindo o valor da folha salarial do faturamento, a empresa teve um lucro de 2.801.666,78 lucro/faturamento\n",
    "   2. A área administrativa é a que mais fecha contratos e a de logística, a que menos fecha\n",
    "   3. O número de funcionários por área é equilibrado, em média, cada área possui ~20% de funcionários\n",
    "        "
   ]
  },
  {
   "cell_type": "code",
   "execution_count": null,
   "id": "8bcf1a80",
   "metadata": {},
   "outputs": [],
   "source": []
  }
 ],
 "metadata": {
  "kernelspec": {
   "display_name": "Python 3 (ipykernel)",
   "language": "python",
   "name": "python3"
  },
  "language_info": {
   "codemirror_mode": {
    "name": "ipython",
    "version": 3
   },
   "file_extension": ".py",
   "mimetype": "text/x-python",
   "name": "python",
   "nbconvert_exporter": "python",
   "pygments_lexer": "ipython3",
   "version": "3.9.12"
  }
 },
 "nbformat": 4,
 "nbformat_minor": 5
}
